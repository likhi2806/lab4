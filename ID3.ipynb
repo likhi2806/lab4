{
 "cells": [
  {
   "cell_type": "code",
   "execution_count": 1,
   "metadata": {},
   "outputs": [],
   "source": [
    "import csv\n",
    "import math"
   ]
  },
  {
   "cell_type": "code",
   "execution_count": 2,
   "metadata": {},
   "outputs": [],
   "source": [
    "def major_class(data,attributes,target):\n",
    "    freq={}\n",
    "    index = attributes.index(target)\n",
    "    for t in data:\n",
    "        if t[index] in freq:\n",
    "            freq[t[index]] += 1\n",
    "        else:\n",
    "            freq[t[index]] = 1\n",
    "    m = 0\n",
    "    major =\"\"\n",
    "    for key in freq.keys():\n",
    "        if freq[key] > m:\n",
    "            m = freq[key]\n",
    "            major = key\n",
    "    return major"
   ]
  },
  {
   "cell_type": "code",
   "execution_count": 3,
   "metadata": {},
   "outputs": [],
   "source": [
    "def entropy(attributes,data,targetAttr):\n",
    "    freq ={}\n",
    "    data_entropy=0.0\n",
    "    i = 0\n",
    "    for entry in attributes:\n",
    "        if targetAttr == entry:\n",
    "            break\n",
    "        i += 1\n",
    "    for entry in data:\n",
    "        if entry[i] == 'PlayTennis':\n",
    "            pass\n",
    "        else:\n",
    "            if entry[i] in freq:\n",
    "                freq[entry[i]] += 1.0\n",
    "            else:\n",
    "                freq[entry[i]] =1.0\n",
    "    for f in freq.values():\n",
    "        data_entropy += (-f/len(data)) * math.log(f/len(data), 2)\n",
    "    return data_entropy"
   ]
  },
  {
   "cell_type": "code",
   "execution_count": 4,
   "metadata": {},
   "outputs": [],
   "source": [
    "def info_gain(data,attributes,targetAttr,attr):\n",
    "    freq={}\n",
    "    subset_entropy = 0.0\n",
    "    i=attributes.index(attr)\n",
    "    for entry in data:\n",
    "        if entry[i]==attr:\n",
    "            pass\n",
    "        else:\n",
    "            if entry[i] in freq:\n",
    "                freq[entry[i]] += 1.0\n",
    "            else:\n",
    "                freq[entry[i]] = 1\n",
    "    for val in freq.keys():\n",
    "        p = sum(freq.values())\n",
    "        val_prob = freq[val] / (p)\n",
    "        data_subset = [entry for entry in data if entry[i] == val]\n",
    "        subset_entropy += val_prob * entropy(attributes,data_subset,targetAttr)\n",
    "    data_subset=[entry for entry in data if entry[0] != 'Outlook']\n",
    "    Info_gain=entropy(attributes,data_subset,targetAttr) - subset_entropy\n",
    "    return Info_gain"
   ]
  },
  {
   "cell_type": "code",
   "execution_count": 5,
   "metadata": {},
   "outputs": [],
   "source": [
    "def attr_choose(data,attributes,target):\n",
    "    best=attributes[0]\n",
    "    max_gain=0\n",
    "    for attr in attributes:\n",
    "        if attr != target:\n",
    "            new_gain=info_gain(data,attributes,target,attr)\n",
    "            if new_gain > max_gain:\n",
    "                max_gain = new_gain\n",
    "                best = attr\n",
    "    return best"
   ]
  },
  {
   "cell_type": "code",
   "execution_count": 6,
   "metadata": {},
   "outputs": [],
   "source": [
    "def get_values(data,attributes,attr):\n",
    "    i=attributes.index(attr)\n",
    "    values=[]\n",
    "    for entry in data:\n",
    "        if entry[i] == attr:\n",
    "            pass\n",
    "        else:\n",
    "            if entry[i] not in values:\n",
    "                values.append(entry[i])\n",
    "    return values"
   ]
  },
  {
   "cell_type": "code",
   "execution_count": 7,
   "metadata": {},
   "outputs": [],
   "source": [
    "def get_data(data,attributes,best,val):\n",
    "    new_data=[]\n",
    "    i=attributes.index(best)\n",
    "    for entry in data:\n",
    "        if entry[i]==val:\n",
    "            new_entry =[]\n",
    "            for j in range(len(entry)):\n",
    "                if j != i:\n",
    "                    new_entry.append(entry[j])\n",
    "            new_data.append(new_entry)\n",
    "    return new_data"
   ]
  },
  {
   "cell_type": "code",
   "execution_count": 8,
   "metadata": {},
   "outputs": [],
   "source": [
    "def build_tree(data,attributes,target):\n",
    "    vals=[record[attributes.index(target)] for record in data]\n",
    "    default = major_class(data,attributes,target)\n",
    "    if not data or (len(attributes) - 1) <= 0:\n",
    "        return default\n",
    "    elif vals.count(vals[0])==len(vals):\n",
    "        return vals[0]\n",
    "    else:\n",
    "        best=attr_choose(data,attributes,target)\n",
    "        tree={best:{}}\n",
    "        for val in get_values(data,attributes,best):\n",
    "            new_data=get_data(data,attributes,best,val)\n",
    "            new_attr=attributes[:]\n",
    "            new_attr.remove(best)\n",
    "            subtree=build_tree(new_data,new_attr,target)\n",
    "            tree[best][val]=subtree\n",
    "        return tree"
   ]
  },
  {
   "cell_type": "code",
   "execution_count": 9,
   "metadata": {},
   "outputs": [],
   "source": [
    "def test(attributes,instance,tree):\n",
    "    attributes=next(iter(tree))\n",
    "    i = attributes.index(attributes)\n",
    "    if instance[i] in tree[attributes].keys():\n",
    "        result = tree[attributes][instance[i]]\n",
    "        if isinstance(result,dict):\n",
    "            return test(attributes,instance,result)\n",
    "        else:\n",
    "            return result\n",
    "    else:\n",
    "        return 'NULL'"
   ]
  },
  {
   "cell_type": "code",
   "execution_count": 10,
   "metadata": {},
   "outputs": [],
   "source": [
    "def execute_decision_tree():\n",
    "    data=[]\n",
    "    with open('PlayTennis.csv') as tsv:\n",
    "        for line in csv.reader(tsv):\n",
    "            data.append(tuple(line))\n",
    "        attributes=list(data[0])\n",
    "        target=attributes[-1]\n",
    "        training_set=[x for i,x in enumerate(data)]\n",
    "        print(\"DATA SET IS:\")\n",
    "        print(training_set)\n",
    "        print()\n",
    "        \n",
    "        tree=build_tree(training_set,attributes,target)\n",
    "        \n",
    "        print('Decision Tree is as below: \\n')\n",
    "        print(tree)\n",
    "        instance=['Sunny','Hot','High','Weak']\n",
    "        \n",
    "        print(\"*****************\")\n",
    "        print('Testing instance is:',instance)\n",
    "        result=test(attributes,instance,tree)\n",
    "        print('The Target value for the testing instance is:')\n",
    "        print(result)"
   ]
  },
  {
   "cell_type": "code",
   "execution_count": 11,
   "metadata": {},
   "outputs": [
    {
     "name": "stdout",
     "output_type": "stream",
     "text": [
      "DATA SET IS:\n",
      "[('Outlook', 'Temperature', 'Humidity', 'Windy', 'PlayTennis'), ('Sunny', 'Hot', 'High', 'FALSE', 'No'), ('Sunny', 'Hot', 'High', 'TRUE', 'No'), ('Overcast', 'Hot', 'High', 'FALSE', 'Yes'), ('Rainy', 'Mild', 'High', 'FALSE', 'Yes'), ('Rainy', 'Cool', 'High', 'FALSE', 'Yes'), ('Rainy', 'Cool', 'Normal', 'TRUE', 'No'), ('Overcast', 'Cool', 'Normal', 'TRUE', 'Yes'), ('Sunny', 'Mild', 'High', 'FALSE', 'No'), ('Sunny', 'Cool', 'Normal', 'FALSE', 'Yes'), ('Rainy', 'Mild', 'Normal', 'FALSE', 'Yes'), ('Sunny', 'Mild', 'Normal', 'TRUE', 'Yes'), ('Overcast', 'Mild', 'High', 'TRUE', 'Yes'), ('Overcast', 'Hot', 'Normal', 'FALSE', 'Yes'), ('Rainy', 'Mild', 'High', 'TRUE', 'No')]\n",
      "\n",
      "Decision Tree is as below: \n",
      "\n",
      "{'Outlook': {'Sunny': {'Humidity': {'High': 'No', 'Normal': 'Yes'}}, 'Overcast': 'Yes', 'Rainy': {'Windy': {'TRUE': 'No', 'FALSE': 'Yes'}}}}\n",
      "*****************\n",
      "Testing instance is: ['Sunny', 'Hot', 'High', 'Weak']\n",
      "The Traget value for the testing instance is:\n",
      "NULL\n"
     ]
    }
   ],
   "source": [
    "execute_decision_tree()"
   ]
  }
 ],
 "metadata": {
  "kernelspec": {
   "display_name": "Python 3",
   "language": "python",
   "name": "python3"
  },
  "language_info": {
   "codemirror_mode": {
    "name": "ipython",
    "version": 3
   },
   "file_extension": ".py",
   "mimetype": "text/x-python",
   "name": "python",
   "nbconvert_exporter": "python",
   "pygments_lexer": "ipython3",
   "version": "3.5.6"
  }
 },
 "nbformat": 4,
 "nbformat_minor": 2
}
